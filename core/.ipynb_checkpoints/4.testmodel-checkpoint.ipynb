{
 "cells": [
  {
   "cell_type": "markdown",
   "metadata": {},
   "source": [
    "# 4.testmodel"
   ]
  },
  {
   "cell_type": "raw",
   "metadata": {},
   "source": [
    "# !/usr/bin/env python\n",
    "# coding: utf-8\n",
    "# author: Siwanont Sittinam\n",
    "# description: 4.testmodel"
   ]
  },
  {
   "cell_type": "code",
   "execution_count": 1,
   "metadata": {},
   "outputs": [],
   "source": [
    "# General Module\n",
    "import os, sys, time\n",
    "# My Module\n",
    "from srcluslib.utility.io import io\n",
    "io = io()"
   ]
  },
  {
   "cell_type": "code",
   "execution_count": 2,
   "metadata": {},
   "outputs": [
    {
     "data": {
      "text/plain": [
       "['vocab.model',\n",
       " 'vocab.model.trainables.syn1neg.npy',\n",
       " 'vocab.model.wv.vectors.npy']"
      ]
     },
     "execution_count": 2,
     "metadata": {},
     "output_type": "execute_result"
    }
   ],
   "source": [
    "model_path = os.path.join(\"datas\", \"model\")\n",
    "model_folder_path = os.path.join(model_path, 'all.'+'no'+'tfidf')\n",
    "model_name = os.path.join(model_folder_path, \"vocab.model\")\n",
    "os.listdir(model_folder_path)"
   ]
  },
  {
   "cell_type": "code",
   "execution_count": 3,
   "metadata": {},
   "outputs": [],
   "source": [
    "from gensim.models import Word2Vec\n",
    "model = Word2Vec.load(model_name)"
   ]
  },
  {
   "cell_type": "code",
   "execution_count": 4,
   "metadata": {},
   "outputs": [
    {
     "data": {
      "text/plain": [
       "[('music)', 0.5299475193023682),\n",
       " ('vevo', 0.4861544370651245),\n",
       " ('itunes', 0.46050962805747986),\n",
       " ('synthpop', 0.4540908932685852),\n",
       " ('rexha', 0.452033668756485),\n",
       " ('rida', 0.44797641038894653),\n",
       " ('รีมิกซ์', 0.44726598262786865),\n",
       " ('66.blessing', 0.4457942247390747),\n",
       " ('อัลบัมชุด', 0.4451395869255066),\n",
       " ('feat.san', 0.4448607563972473)]"
      ]
     },
     "execution_count": 4,
     "metadata": {},
     "output_type": "execute_result"
    }
   ],
   "source": [
    "model.wv.most_similar([\"apple\",\"music\", \"เพลง\"], topn=10)"
   ]
  },
  {
   "cell_type": "code",
   "execution_count": 5,
   "metadata": {},
   "outputs": [
    {
     "name": "stderr",
     "output_type": "stream",
     "text": [
      "Using TensorFlow backend.\n"
     ]
    }
   ],
   "source": [
    "from srcluslib.model.preprocess import preprocess\n",
    "from srcluslib.model.tokenize import tokenize\n",
    "preprocess = preprocess()"
   ]
  },
  {
   "cell_type": "code",
   "execution_count": 6,
   "metadata": {},
   "outputs": [],
   "source": [
    "def preprocessdata(word=\"\"):\n",
    "    status = [0,0,0,0,0]\n",
    "    procdata = word\n",
    "    procdata, status[0] = preprocess.replaceURL(data=word)\n",
    "    procdata, status[1] = preprocess.filterTHENG(data=procdata)\n",
    "    texts = [word for word in procdata.split(' ') if word not in ['', ' ']]\n",
    "    procdata, status[3] = tokenize(data=texts).run()\n",
    "    procdata, status[4] = preprocess.removeStopword(procdata)\n",
    "    return procdata, status"
   ]
  },
  {
   "cell_type": "code",
   "execution_count": 38,
   "metadata": {},
   "outputs": [],
   "source": [
    "# result, status = io.requestPantipsearch(keywords=\"apple\", pages=\"10\")\n",
    "# result"
   ]
  },
  {
   "cell_type": "code",
   "execution_count": 43,
   "metadata": {},
   "outputs": [],
   "source": [
    "def predictword(i,topi=10):\n",
    "    text_id = [result['hits'][i]['_id']\n",
    "    text_title = result['hits'][i]['_source']['title']\n",
    "    text_desc = result['hits'][i]['highlight']['desc']\n",
    "    text = text_path['title'] + \" \".join(text_desc)\n",
    "    text_string = \n",
    "    text_proc, status = preprocessdata(word=text_string)\n",
    "    text_proc_vocab = filter(lambda x: x in model.wv.vocab, text_proc)\n",
    "    return result['hits'][i]['_id'], text_string, text_proc, model.wv.most_similar(text_proc_vocab, topn=topi)"
   ]
  },
  {
   "cell_type": "code",
   "execution_count": 37,
   "metadata": {},
   "outputs": [],
   "source": [
    "# predictword(0)"
   ]
  },
  {
   "cell_type": "code",
   "execution_count": 13,
   "metadata": {},
   "outputs": [],
   "source": [
    "# model.wv.word_vec(\"apple\", use_norm=False)"
   ]
  },
  {
   "cell_type": "code",
   "execution_count": 30,
   "metadata": {},
   "outputs": [],
   "source": [
    "n_page = 1\n",
    "word = \"apple\""
   ]
  },
  {
   "cell_type": "code",
   "execution_count": 31,
   "metadata": {},
   "outputs": [],
   "source": [
    "label = {}"
   ]
  },
  {
   "cell_type": "code",
   "execution_count": 44,
   "metadata": {},
   "outputs": [
    {
     "name": "stdout",
     "output_type": "stream",
     "text": [
      "[Success] Request from word : apple \n",
      "['38562575',\n",
      " {'comments_desc': ['¦004001¦ผมก็เลยยังไม่เปลี่ยนเพราะกลัวแย่กว่าเดิม '\n",
      "                    'เปลี่ยนทีก็นานด้วยครับเขาบอกว่าเอาตัวใหม่มาให้เลยไม่ได้ '\n",
      "                    'ต้องคืนเงินก่อนแล้วให้เราซื้อตัวใหม่อีกครั้ง '\n",
      "                    'พนักงานคุยกันแล้วเขียนหัวบิลว่าเปลี่ยนครั้งที่1 ด้วยครับ '\n",
      "                    'เมื่อสัปดาห์ที่แล้วได้โทรไปถาม <em>Apple</em>'],\n",
      "  'desc': ['สวัสดีครับ '\n",
      "           'นี่เป็นกระทู้แรกของผมนะครับถ้าผิดพลาดประการใดต้องขออภัยด้วยนะครับ '\n",
      "           'เรื่องมีอยู่ว่าผมได้สั่ง <em>apple</em> pencil รุ่นแรกมาจาก '\n",
      "           '<em>Apple</em> store ทางออน์ไลน์ '\n",
      "           'ผมได้บังเอิญสังเกตเห็นตอนปากกามันกลิ้งบนจอว่าหัว tip มันส่าย '\n",
      "           'เลยมาดูดีๆ ลองหมุนดู กลิ้งดูแล้วมันเอียงนี่หว่า'],\n",
      "  'title': ['หัว <em>Apple</em> pencil เบี้ยวตั้งแต่แกะกล่อง?']}]\n",
      "['38686745',\n",
      " {'desc': ['สวัสดีครับ พอดีอยากทราบว่า ตัว <em>Apple</em> watch Series 4 '\n",
      "           'สามารถเชื่อมต่อกับ IPhone 5s ได้ไหมครับ หรือว่าต้องเชื่อมได้ถึงแค่ '\n",
      "           'Series3.'],\n",
      "  'title': ['<em>Apple</em> watch']}]\n",
      "['38353068',\n",
      " {'comments_desc': ['¦007000¦ที่ไม่ได้เปลี่ยนข้อมูลบัตรอะไร เปลี่ยนแค่รหัส '\n",
      "                    '<em>apple</em> id',\n",
      "                    '¦004001¦ ตอนที่รู้ว่าโดน ก็รีบตรวจสอบก่อนเลยค่ะว่า '\n",
      "                    'มีการซื้ออะไรหรือเปล่า ก็ไม่มีนะคะ เลยรีบแจ้งไปยัง '\n",
      "                    '<em>Apple</em> ขอบคุณนะคะ สำหรับคำแนะนำ '\n",
      "                    'จะต้องรอบครอบให้มากขึ้นกว่าเดิม ^^',\n",
      "                    '¦006002¦ ถ้าอีเมล์ไม่มีใบเสร็จ '\n",
      "                    'อาจจะเป็นไปได้ว่าเค้าเอาเฉพาะข้อมูลบัตร (ATM หรือ '\n",
      "                    'บัตรเครดิต) ของคุณไปซื้อในแอคเค้าท์ของเค้าเอง '\n",
      "                    'โดยการที่เค้าล้วงข้อมูลผ่าน <em>Apple</em> ID ของคุณ (รู้ '\n",
      "                    'id และ password)',\n",
      "                    '¦005000¦ ต้องถามว่า นานขนาดไหนแล้วครับ ปกติ ถ้าเพิ่งเกิด '\n",
      "                    'transaction สามารถขอคืนเงินได้นะครับ แต่ถ้าเกิดนานแล้ว '\n",
      "                    'ทาง <em>Apple</em> ก็ไม่รู้ว่าจะทำยังไง ควรเปิด 2 step '\n",
      "                    'verify ด้วยนะครับ อย่างน้อยก็ช่วยป้องกันได้ 2 Step',\n",
      "                    '¦006000¦ผมว่าคงยากที่จะรู้ว่าคนซื้อคือใคร เช่น คุณเอา '\n",
      "                    '<em>apple</em> id มาให้ผมหรือผมรู้ ผมเอามาล๊อคอินแล้วซื้อ '\n",
      "                    'แล้วจะรู้ได้ยังไงละครับว่าใครเป็นคนล๊อคอินเข้าไปซื้อ '\n",
      "                    'เพราะมันจะขึ้นข้อมูลของคุณ ไม่ได้ขึ้นข้อมูลอะไรของผมเลย '\n",
      "                    'หรือว่าไม่จริงครับ',\n",
      "                    '¦005001¦ โดนหักวันนี้เลยค่ะช่วงเวลาตอน 05.00 น. '\n",
      "                    'แล้วมาตรวจดูสถานะทางการเงิน ตอน 07.30 น. เลยติดต่อกับทาง '\n",
      "                    '<em>Apple</em> ช่วงเวลา 09.30 น. นะคะ '\n",
      "                    'ทางบริษัทบอกว่าจะคืนเงินให้ ครึ่งเดียว คือ 600 บาท (ภายใน '\n",
      "                    '30 วัน) ขอบคุณนะคะ สำหรับคำแนะนำ ที่ให้เปิด 2 step verify '\n",
      "                    '^^',\n",
      "                    '¦006000¦ '\n",
      "                    'จริงๆเวลาเราซื้ออะไรจะมีใบเสร็จแจ้งยอดการซื้อมาที่อีเมลล์นะครับ '\n",
      "                    'คุณต้องรู้สิครับว่าซื้ออะไรไป '\n",
      "                    'เพราะมันจะไปโผล่ในอีเมลล์คุณอยู่แล้ว '\n",
      "                    'ต่อให้คุณไม่ได้ซื้อเองก็ตาม แต่ <em>apple</em> id '\n",
      "                    'ที่ใช้เป็นของคุณ '\n",
      "                    'คุณต้องได้รับข้อมูลการซื้อส่งมาทางอีเมลล์อย่างแน่นอนครับ'],\n",
      "  'desc': ['<em>Apple</em> แล้วทางบริษัท ก็บอกว่า มีบุคคลที่ 3 แอบใช้รหัส '\n",
      "           '<em>Apple</em> ID ของแฟนเรา ไม่สามารถเปิดเผยบุคคลที่โกงเราได้ '\n",
      "           'เพราะเป็นความลับของทางบริษัท '\n",
      "           'แล้วทางบริษัทจะทำการคืนเงินให้เพียงครึ่งเดียว คือ 600 บาท '\n",
      "           '(จะคืนภายใน 30 วัน) แล้วทางบริษัทก็ทำการ -บล็อก <em>Apple</em> ID '\n",
      "           'ของแฟนเรา'],\n",
      "  'title': ['โดนบุคคลที่ 3 แอบใช้ <em>Apple</em> ID เพื่อซื้อ App หมดไป 1,200 '\n",
      "            'วันเดียว ทำยังไงดี??']}]\n",
      "['38613548',\n",
      " {'comments_desc': ['¦002000¦ <em>Apple</em> Store iconsiam '\n",
      "                    'เคลมไอโฟนเปลี่ยนได้ทันทีถ้าซื้อจาก SHOP ICONSIAM โดยตรง '\n",
      "                    'แต่ถ้าซื้อจากโอเปอเรเตอร์ หรือ สั่งจากเว็ป <em>Apple</em> '\n",
      "                    'store Online ทาง<em>Apple</em> Store iconsiam '\n",
      "                    'จะดำเนินการส่งไปให้ทางสิงค์โปรเคลมให้',\n",
      "                    '¦002001¦ ตอนนี้คือกำลังคิดจะสั่งจากเว็บ <em>apple</em> '\n",
      "                    'store โดยตรงของประเทศญี่ปุ่น '\n",
      "                    'งี้ก็คือสมมติกลับไทยละเครื่องเจ๊งก็เคลมที่ไอคอนสยามได้ '\n",
      "                    'แต่ว่าจะต้องรอดำเนินการส่งไปสิงคโปรใช่มั้ยคะ'],\n",
      "  'desc': ['สวัสดีค่ะตอนนี้อาศัยอยู่ญี่ปุ่นและ พอดีตอนนี้มือถือพัง '\n",
      "           'เลยว่าจะซื้อใหม่ แต่ลองหาข้อมูลแล้วยังงงๆนิดหน่อย '\n",
      "           'ข้อมูลที่หาเจอส่วนใหญ่จะเป็นช่วงก่อนที่<em>apple</em> store '\n",
      "           'เปิดที่เมืองไทย เลยอยากขอความชัวนิดนึง '\n",
      "           'สรุปว่าไอโฟนถ้าเราซื้อที่ญี่ปุ่นเราสามารถนำกลับไปเคลมที่\"<em>apple</em>']}]\n"
     ]
    },
    {
     "ename": "KeyError",
     "evalue": "'title'",
     "output_type": "error",
     "traceback": [
      "\u001b[1;31m---------------------------------------------------------------------------\u001b[0m",
      "\u001b[1;31mKeyError\u001b[0m                                  Traceback (most recent call last)",
      "\u001b[1;32m<ipython-input-44-846fc45ffa37>\u001b[0m in \u001b[0;36m<module>\u001b[1;34m\u001b[0m\n\u001b[0;32m      3\u001b[0m \u001b[1;31m#     print(result)\u001b[0m\u001b[1;33m\u001b[0m\u001b[1;33m\u001b[0m\u001b[1;33m\u001b[0m\u001b[0m\n\u001b[0;32m      4\u001b[0m     \u001b[1;32mfor\u001b[0m \u001b[0mi\u001b[0m \u001b[1;32min\u001b[0m \u001b[0mrange\u001b[0m\u001b[1;33m(\u001b[0m\u001b[1;36m0\u001b[0m\u001b[1;33m,\u001b[0m\u001b[1;36m9\u001b[0m\u001b[1;33m)\u001b[0m\u001b[1;33m:\u001b[0m\u001b[1;33m\u001b[0m\u001b[1;33m\u001b[0m\u001b[0m\n\u001b[1;32m----> 5\u001b[1;33m         \u001b[0ma\u001b[0m\u001b[1;33m,\u001b[0m\u001b[0mb\u001b[0m\u001b[1;33m,\u001b[0m\u001b[0mc\u001b[0m\u001b[1;33m,\u001b[0m\u001b[0md\u001b[0m \u001b[1;33m=\u001b[0m \u001b[0mpredictword\u001b[0m\u001b[1;33m(\u001b[0m\u001b[0mi\u001b[0m\u001b[1;33m)\u001b[0m\u001b[1;33m\u001b[0m\u001b[1;33m\u001b[0m\u001b[0m\n\u001b[0m\u001b[0;32m      6\u001b[0m         \u001b[0mlabel_in\u001b[0m \u001b[1;33m=\u001b[0m \u001b[1;33m[\u001b[0m\u001b[0mx\u001b[0m\u001b[1;33m[\u001b[0m\u001b[1;36m0\u001b[0m\u001b[1;33m]\u001b[0m \u001b[1;32mfor\u001b[0m \u001b[0mx\u001b[0m \u001b[1;32min\u001b[0m \u001b[0mc\u001b[0m\u001b[1;33m]\u001b[0m\u001b[1;33m\u001b[0m\u001b[1;33m\u001b[0m\u001b[0m\n\u001b[0;32m      7\u001b[0m         \u001b[1;32mfor\u001b[0m \u001b[0mj\u001b[0m \u001b[1;32min\u001b[0m \u001b[0mlabel_in\u001b[0m\u001b[1;33m:\u001b[0m\u001b[1;33m\u001b[0m\u001b[1;33m\u001b[0m\u001b[0m\n",
      "\u001b[1;32m<ipython-input-43-eb02f3647c79>\u001b[0m in \u001b[0;36mpredictword\u001b[1;34m(i, topi)\u001b[0m\n\u001b[0;32m      2\u001b[0m     \u001b[0mtext_path\u001b[0m \u001b[1;33m=\u001b[0m \u001b[0mresult\u001b[0m\u001b[1;33m[\u001b[0m\u001b[1;34m'hits'\u001b[0m\u001b[1;33m]\u001b[0m\u001b[1;33m[\u001b[0m\u001b[0mi\u001b[0m\u001b[1;33m]\u001b[0m\u001b[1;33m[\u001b[0m\u001b[1;34m'highlight'\u001b[0m\u001b[1;33m]\u001b[0m\u001b[1;33m\u001b[0m\u001b[1;33m\u001b[0m\u001b[0m\n\u001b[0;32m      3\u001b[0m     \u001b[0mio\u001b[0m\u001b[1;33m.\u001b[0m\u001b[0mprint\u001b[0m\u001b[1;33m(\u001b[0m\u001b[1;33m[\u001b[0m\u001b[0mresult\u001b[0m\u001b[1;33m[\u001b[0m\u001b[1;34m'hits'\u001b[0m\u001b[1;33m]\u001b[0m\u001b[1;33m[\u001b[0m\u001b[0mi\u001b[0m\u001b[1;33m]\u001b[0m\u001b[1;33m[\u001b[0m\u001b[1;34m'_id'\u001b[0m\u001b[1;33m]\u001b[0m\u001b[1;33m,\u001b[0m \u001b[0mtext_path\u001b[0m\u001b[1;33m]\u001b[0m\u001b[1;33m)\u001b[0m\u001b[1;33m\u001b[0m\u001b[1;33m\u001b[0m\u001b[0m\n\u001b[1;32m----> 4\u001b[1;33m     \u001b[0mtext\u001b[0m \u001b[1;33m=\u001b[0m \u001b[0mtext_path\u001b[0m\u001b[1;33m[\u001b[0m\u001b[1;34m'title'\u001b[0m\u001b[1;33m]\u001b[0m \u001b[1;33m+\u001b[0m \u001b[0mtext_path\u001b[0m\u001b[1;33m[\u001b[0m\u001b[1;34m'desc'\u001b[0m\u001b[1;33m]\u001b[0m\u001b[1;33m\u001b[0m\u001b[1;33m\u001b[0m\u001b[0m\n\u001b[0m\u001b[0;32m      5\u001b[0m     \u001b[0mtext_string\u001b[0m \u001b[1;33m=\u001b[0m \u001b[1;34m\" \"\u001b[0m\u001b[1;33m.\u001b[0m\u001b[0mjoin\u001b[0m\u001b[1;33m(\u001b[0m\u001b[0mtext\u001b[0m\u001b[1;33m)\u001b[0m\u001b[1;33m\u001b[0m\u001b[1;33m\u001b[0m\u001b[0m\n\u001b[0;32m      6\u001b[0m     \u001b[0mtext_proc\u001b[0m\u001b[1;33m,\u001b[0m \u001b[0mstatus\u001b[0m \u001b[1;33m=\u001b[0m \u001b[0mpreprocessdata\u001b[0m\u001b[1;33m(\u001b[0m\u001b[0mword\u001b[0m\u001b[1;33m=\u001b[0m\u001b[0mtext_string\u001b[0m\u001b[1;33m)\u001b[0m\u001b[1;33m\u001b[0m\u001b[1;33m\u001b[0m\u001b[0m\n",
      "\u001b[1;31mKeyError\u001b[0m: 'title'"
     ]
    }
   ],
   "source": [
    "while(True):\n",
    "    result, status = io.requestPantipsearch(keywords=word, pages=str(n_page))\n",
    "#     print(result)\n",
    "    for i in range(0,9):\n",
    "        a,b,c,d = predictword(i)\n",
    "        label_in = [x[0] for x in c]\n",
    "        for j in label_in:\n",
    "            if j in label: label[j].append(a)\n",
    "            else : label[j] = [a]\n",
    "    n_page += 1\n",
    "    if n_page == 10 : break"
   ]
  },
  {
   "cell_type": "code",
   "execution_count": null,
   "metadata": {},
   "outputs": [],
   "source": [
    "label"
   ]
  }
 ],
 "metadata": {
  "kernelspec": {
   "display_name": "envsrclus",
   "language": "python",
   "name": "envsrclus"
  },
  "language_info": {
   "codemirror_mode": {
    "name": "ipython",
    "version": 3
   },
   "file_extension": ".py",
   "mimetype": "text/x-python",
   "name": "python",
   "nbconvert_exporter": "python",
   "pygments_lexer": "ipython3",
   "version": "3.6.8"
  }
 },
 "nbformat": 4,
 "nbformat_minor": 2
}
