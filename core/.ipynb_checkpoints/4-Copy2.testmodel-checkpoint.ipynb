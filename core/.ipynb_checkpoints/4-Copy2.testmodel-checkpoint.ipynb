{
 "cells": [
  {
   "cell_type": "markdown",
   "metadata": {},
   "source": [
    "# 4.testmodel"
   ]
  },
  {
   "cell_type": "raw",
   "metadata": {},
   "source": [
    "# !/usr/bin/env python\n",
    "# coding: utf-8\n",
    "# author: Siwanont Sittinam\n",
    "# description: 4.testmodel"
   ]
  },
  {
   "cell_type": "code",
   "execution_count": 1,
   "metadata": {},
   "outputs": [],
   "source": [
    "# General Module\n",
    "import os, sys, time\n",
    "# My Module\n",
    "from srcluslib.utility.io import io\n",
    "io = io()"
   ]
  },
  {
   "cell_type": "code",
   "execution_count": 2,
   "metadata": {},
   "outputs": [],
   "source": [
    "model_path = os.path.join(\"datas\", \"model\")\n",
    "model_newmm_folder_path = os.path.join(model_path, 'newmm.all.notfidf')\n",
    "model_newmm_name = os.path.join(model_newmm_folder_path, \"vocab.model\")\n",
    "model_deepcut_folder_path = os.path.join(model_path, 'deepcut.all.notfidf')\n",
    "model_deepcut_name = os.path.join(model_deepcut_folder_path, \"vocab.model\")\n",
    "# os.listdir(model_folder_path)"
   ]
  },
  {
   "cell_type": "code",
   "execution_count": 3,
   "metadata": {},
   "outputs": [],
   "source": [
    "from gensim.models import Word2Vec\n",
    "model_newmm = Word2Vec.load(model_newmm_name)\n",
    "# model_deepcut = Word2Vec.load(model_deepcut_name)"
   ]
  },
  {
   "cell_type": "code",
   "execution_count": 6,
   "metadata": {},
   "outputs": [
    {
     "data": {
      "text/plain": [
       "[('spotify', 0.6204837560653687),\n",
       " ('kkbox', 0.6078757047653198),\n",
       " ('vevo', 0.5856919288635254),\n",
       " ('เพลงของ', 0.5718971490859985),\n",
       " ('itune', 0.5653254985809326),\n",
       " ('itunes', 0.5577067136764526),\n",
       " ('ของวง', 0.5506907105445862),\n",
       " ('deezer', 0.5481389164924622),\n",
       " ('ทั้งเพลง', 0.5467045307159424),\n",
       " ('ทำไมเพลง', 0.5448517799377441)]"
      ]
     },
     "execution_count": 6,
     "metadata": {},
     "output_type": "execute_result"
    }
   ],
   "source": [
    "model_newmm.wv.most_similar([\"apple\",\"music\", \"เพลง\", \"joox\"], topn=10)"
   ]
  },
  {
   "cell_type": "code",
   "execution_count": null,
   "metadata": {},
   "outputs": [],
   "source": [
    "from srcluslib.model.preprocess import preprocess\n",
    "from srcluslib.model.tokenize import tokenize\n",
    "# Init My Module\n",
    "preprocess = preprocess()"
   ]
  },
  {
   "cell_type": "code",
   "execution_count": null,
   "metadata": {},
   "outputs": [],
   "source": [
    "def preprocessdata(word=\"\"):\n",
    "    status = [0,0,0,0,0]\n",
    "    procdata = word\n",
    "    procdata, status[0] = preprocess.replaceURL(data=word)\n",
    "    procdata, status[1] = preprocess.filterTHENG(data=procdata)\n",
    "    texts = [word for word in procdata.split(' ') if word not in ['', ' ']]\n",
    "    procdata, status[3] = tokenize(data=texts).run()\n",
    "    procdata, status[4] = preprocess.removeStopword(procdata)\n",
    "    return procdata, status"
   ]
  },
  {
   "cell_type": "code",
   "execution_count": null,
   "metadata": {},
   "outputs": [],
   "source": [
    "# result, status = io.requestPantipsearch(keywords=\"apple\", pages=\"10\")\n",
    "# result"
   ]
  },
  {
   "cell_type": "code",
   "execution_count": null,
   "metadata": {},
   "outputs": [],
   "source": [
    "from pythainlp.util import is_thai\n",
    "is_thai(\"กกกก\", check_all=False)['thai']"
   ]
  },
  {
   "cell_type": "code",
   "execution_count": null,
   "metadata": {},
   "outputs": [],
   "source": [
    "def predictword(i,topi=10):\n",
    "    if \"_id\" not in result[\"hits\"][i] : return None, None, None, None\n",
    "    text_id = result[\"hits\"][i][\"_id\"]    \n",
    "#     print(text_id)\n",
    "    if \"title\" in result[\"hits\"][i][\"_source\"] : text_title = result[\"hits\"][i][\"_source\"][\"title\"] \n",
    "    else : text_title = \"\"\n",
    "    if \"desc\" in result[\"hits\"][i][\"highlight\"] : text_desc = result[\"hits\"][i][\"highlight\"][\"desc\"] \n",
    "    else : text_desc = [\"\"]\n",
    "    text = text_title + \" \" + \" \".join(text_desc)\n",
    "    text_proc, status = preprocessdata(word=text)\n",
    "    text_proc_vocab = list(filter(lambda x: x in model.wv.vocab, text_proc))\n",
    "    if len(text_proc_vocab) > 0 : return text_id, text, text_proc, model.wv.most_similar(text_proc_vocab, topn=topi)\n",
    "    return None, None, None, None"
   ]
  },
  {
   "cell_type": "code",
   "execution_count": null,
   "metadata": {},
   "outputs": [],
   "source": [
    "n_page = 1\n",
    "word = \"apple\""
   ]
  },
  {
   "cell_type": "code",
   "execution_count": null,
   "metadata": {},
   "outputs": [],
   "source": [
    "label = {}"
   ]
  },
  {
   "cell_type": "code",
   "execution_count": null,
   "metadata": {},
   "outputs": [],
   "source": [
    "while(True):\n",
    "    result, status = io.requestPantipsearch(keywords=word, pages=str(n_page))\n",
    "#     print(result)\n",
    "    for i in range(0,9):\n",
    "        a,b,c,d = predictword(i)\n",
    "        if a and b and c and d :\n",
    "            label_in = [x[0] for x in d]\n",
    "            for j in label_in:\n",
    "                if j in label: label[j].append(a)\n",
    "                else : label[j] = [a]\n",
    "    n_page += 1\n",
    "    if n_page == 51 : break"
   ]
  },
  {
   "cell_type": "code",
   "execution_count": null,
   "metadata": {},
   "outputs": [],
   "source": [
    "# model.wv.word_vec(\"apple\", use_norm=False)"
   ]
  },
  {
   "cell_type": "code",
   "execution_count": null,
   "metadata": {},
   "outputs": [],
   "source": [
    "label"
   ]
  },
  {
   "cell_type": "code",
   "execution_count": null,
   "metadata": {},
   "outputs": [],
   "source": [
    "label_lab_1 = label"
   ]
  },
  {
   "cell_type": "code",
   "execution_count": null,
   "metadata": {},
   "outputs": [],
   "source": [
    "label_lab_2 = {}\n",
    "label_lab_2"
   ]
  },
  {
   "cell_type": "code",
   "execution_count": null,
   "metadata": {},
   "outputs": [],
   "source": [
    "for k,v in label_lab_1.items():\n",
    "    if len(v) > 1 : label_lab_2[k] = v"
   ]
  },
  {
   "cell_type": "code",
   "execution_count": null,
   "metadata": {},
   "outputs": [],
   "source": [
    "label_lab_2"
   ]
  },
  {
   "cell_type": "code",
   "execution_count": null,
   "metadata": {},
   "outputs": [],
   "source": []
  }
 ],
 "metadata": {
  "kernelspec": {
   "display_name": "envsrclus",
   "language": "python",
   "name": "envsrclus"
  },
  "language_info": {
   "codemirror_mode": {
    "name": "ipython",
    "version": 3
   },
   "file_extension": ".py",
   "mimetype": "text/x-python",
   "name": "python",
   "nbconvert_exporter": "python",
   "pygments_lexer": "ipython3",
   "version": "3.6.8"
  }
 },
 "nbformat": 4,
 "nbformat_minor": 2
}
