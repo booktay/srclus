{
 "cells": [
  {
   "cell_type": "markdown",
   "metadata": {},
   "source": [
    "# 4.testmodel"
   ]
  },
  {
   "cell_type": "raw",
   "metadata": {},
   "source": [
    "# !/usr/bin/env python\n",
    "# coding: utf-8\n",
    "# author: Siwanont Sittinam\n",
    "# description: 4.testmodel"
   ]
  },
  {
   "cell_type": "code",
   "execution_count": 2,
   "metadata": {},
   "outputs": [],
   "source": [
    "# General Module\n",
    "import os, sys, time\n",
    "# My Module\n",
    "from srcluslib.utility.io import io\n",
    "io = io()"
   ]
  },
  {
   "cell_type": "code",
   "execution_count": 3,
   "metadata": {},
   "outputs": [],
   "source": [
    "model_path = os.path.join(\"datas\", \"model\")\n",
    "model_deepcut_folder_path = os.path.join(model_path, 'deepcut.all.notfidf')\n",
    "model_deepcut_name = os.path.join(model_deepcut_folder_path, \"vocab.model\")\n",
    "# os.listdir(model_folder_path)"
   ]
  },
  {
   "cell_type": "code",
   "execution_count": 5,
   "metadata": {},
   "outputs": [],
   "source": [
    "from gensim.models import Word2Vec\n",
    "model_deepcut = Word2Vec.load(model_deepcut_name)"
   ]
  },
  {
   "cell_type": "code",
   "execution_count": 6,
   "metadata": {},
   "outputs": [
    {
     "data": {
      "text/plain": [
       "[('music)', 0.5733757019042969),\n",
       " ('jook', 0.5626453161239624),\n",
       " ('itunes', 0.5384002327919006),\n",
       " ('แอพเพลง', 0.5304896831512451),\n",
       " ('garageband', 0.525809645652771),\n",
       " ('kkbox', 0.5225470662117004),\n",
       " ('vevo', 0.5204265117645264),\n",
       " ('tunes', 0.5200563073158264),\n",
       " ('spotify', 0.5132337212562561),\n",
       " ('itune', 0.5118333101272583)]"
      ]
     },
     "execution_count": 6,
     "metadata": {},
     "output_type": "execute_result"
    }
   ],
   "source": [
    "model_deepcut.wv.most_similar([\"apple\",\"music\", \"เพลง\", \"joox\"], topn=10)"
   ]
  }
 ],
 "metadata": {
  "kernelspec": {
   "display_name": "envsrclus",
   "language": "python",
   "name": "envsrclus"
  },
  "language_info": {
   "codemirror_mode": {
    "name": "ipython",
    "version": 3
   },
   "file_extension": ".py",
   "mimetype": "text/x-python",
   "name": "python",
   "nbconvert_exporter": "python",
   "pygments_lexer": "ipython3",
   "version": "3.6.8"
  }
 },
 "nbformat": 4,
 "nbformat_minor": 2
}
