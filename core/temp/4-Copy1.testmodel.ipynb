{
 "cells": [
  {
   "cell_type": "markdown",
   "metadata": {},
   "source": [
    "# 4.testmodel"
   ]
  },
  {
   "cell_type": "raw",
   "metadata": {},
   "source": [
    "# !/usr/bin/env python\n",
    "# coding: utf-8\n",
    "# author: Siwanont Sittinam\n",
    "# description: 4.testmodel"
   ]
  },
  {
   "cell_type": "code",
   "execution_count": 1,
   "metadata": {},
   "outputs": [],
   "source": [
    "# General Module\n",
    "import os, sys, time\n",
    "# My Module\n",
    "from srcluslib.utility.io import io\n",
    "io = io()"
   ]
  },
  {
   "cell_type": "code",
   "execution_count": 2,
   "metadata": {},
   "outputs": [],
   "source": [
    "model_path = os.path.join(\"datas\", \"model\")\n",
    "model_newmm_folder_path = os.path.join(model_path, 'newmm.all.notfidf')\n",
    "model_newmm_name = os.path.join(model_newmm_folder_path, \"vocab.model\")\n",
    "# os.listdir(model_folder_path)"
   ]
  },
  {
   "cell_type": "code",
   "execution_count": 3,
   "metadata": {},
   "outputs": [],
   "source": [
    "from gensim.models import Word2Vec\n",
    "model_newmm = Word2Vec.load(model_newmm_name)"
   ]
  },
  {
   "cell_type": "code",
   "execution_count": 6,
   "metadata": {},
   "outputs": [
    {
     "data": {
      "text/plain": [
       "[('spotify', 0.6204837560653687),\n",
       " ('kkbox', 0.6078757047653198),\n",
       " ('vevo', 0.5856919288635254),\n",
       " ('เพลงของ', 0.5718971490859985),\n",
       " ('itune', 0.5653254985809326),\n",
       " ('itunes', 0.5577067136764526),\n",
       " ('ของวง', 0.5506907105445862),\n",
       " ('deezer', 0.5481389164924622),\n",
       " ('ทั้งเพลง', 0.5467045307159424),\n",
       " ('ทำไมเพลง', 0.5448517799377441)]"
      ]
     },
     "execution_count": 6,
     "metadata": {},
     "output_type": "execute_result"
    }
   ],
   "source": [
    "model_newmm.wv.most_similar([\"apple\",\"music\", \"เพลง\", \"joox\"], topn=10)"
   ]
  }
 ],
 "metadata": {
  "kernelspec": {
   "display_name": "envsrclus",
   "language": "python",
   "name": "envsrclus"
  },
  "language_info": {
   "codemirror_mode": {
    "name": "ipython",
    "version": 3
   },
   "file_extension": ".py",
   "mimetype": "text/x-python",
   "name": "python",
   "nbconvert_exporter": "python",
   "pygments_lexer": "ipython3",
   "version": "3.6.8"
  }
 },
 "nbformat": 4,
 "nbformat_minor": 2
}
